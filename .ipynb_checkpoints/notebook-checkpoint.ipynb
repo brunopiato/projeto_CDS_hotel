{
 "cells": [
  {
   "cell_type": "markdown",
   "metadata": {},
   "source": [
    "# <a id='toc1_'></a>[Análises preliminares dos dados dos Hoteis Portugueses](#toc0_)"
   ]
  },
  {
   "cell_type": "markdown",
   "metadata": {},
   "source": [
    "**Table of contents**<a id='toc0_'></a>    \n",
    "- [Análises preliminares dos dados dos Hoteis Portugueses](#toc1_)    \n",
    "  - [Hipóteses](#toc1_1_)    \n",
    "  - [Analises Gerais](#toc1_2_)    \n",
    "    - [Com relação aos hospedes](#toc1_2_1_)    \n",
    "    - [Com relação aos preços](#toc1_2_2_)    \n",
    "    - [Com relação aos cancelamentos](#toc1_2_3_)    \n",
    "    - [Com relação aos quartos](#toc1_2_4_)    \n",
    "  - [Importações](#toc1_3_)    \n",
    "    - [Bibliotecas](#toc1_3_1_)    \n",
    "    - [Dados](#toc1_3_2_)    \n",
    "  - [01 - Análise preliminar](#toc1_4_)    \n",
    "    - [Alguns insights](#toc1_4_1_)    \n",
    "    - [**H01**. A diferença da taxa de cancelamento dos hoteis urbano e resort é superior a 5%. - **CONFIRMADA**](#toc1_4_2_)    \n",
    "    - [**H02**. Pessoas com Lead Time superior a 10 dias cancelam mais que pessoas com Lead Time inferior a 10 dias - **CONFIRMADA**](#toc1_4_3_)    \n",
    "    - [H03. A taxa de cancelamentos na baixa temporada ( inverno Europeu) é maior do que na alta temporada.](#toc1_4_4_)    \n",
    "    - [H04. Pessoas que solicitam requisições especiais cancelam menos.](#toc1_4_5_)    \n",
    "    - [H05. Pessoas que possuem histórico de cancelamento anterior cancelam mais](#toc1_4_6_)    \n",
    "    - [H06. Quanto menos vagas de estacionamento são solicitadas menor a taxa de cancelamento.](#toc1_4_7_)    \n",
    "    - [H07. As reservas no hotel urbano duram em média 2 dias e no hotel resort em média uma semana.](#toc1_4_8_)    \n",
    "    - [H08. A diferença de cancelamentos entre as 10 agencias mais utilizadas é inferior a 10%](#toc1_4_9_)    \n",
    "    - [H09. Pessoas na lista de espera tendem a cancelar menos.](#toc1_4_10_)    \n",
    "    - [H10. Nativos(Portugueses) cancelam mais do que os demais paises da Europa.](#toc1_4_11_)    \n",
    "    - [H11. Pessoas de outros continentes cancelam menos que os portugueses do que o continente europeu.](#toc1_4_12_)    \n",
    "    - [H12. A diaria média do hotel resort é 50% maior que a do hotel urbano.](#toc1_4_13_)    \n",
    "    - [H13. As distribuições temporais do preço médio por visitantes no hotel urbano e resort são relativamente diferentes.](#toc1_4_14_)    \n",
    "    - [H14. O gasto médio por pessoa no Resort Hotel é maior do que no City Hotel em todo ano](#toc1_4_15_)    \n",
    "    - [H15. Reservas feitas por companias possuem taxa de cancelamento inferior a 10%](#toc1_4_16_)    \n",
    "    - [H16. Pessoas fazem adiantamento (Non Refund) cancelam em média 20% menos.](#toc1_4_17_)    \n",
    "\n",
    "<!-- vscode-jupyter-toc-config\n",
    "\tnumbering=false\n",
    "\tanchor=true\n",
    "\tflat=false\n",
    "\tminLevel=1\n",
    "\tmaxLevel=6\n",
    "\t/vscode-jupyter-toc-config -->\n",
    "<!-- THIS CELL WILL BE REPLACED ON TOC UPDATE. DO NOT WRITE YOUR TEXT IN THIS CELL -->"
   ]
  },
  {
   "cell_type": "markdown",
   "metadata": {},
   "source": [
    "## <a id='toc1_1_'></a>[Hipóteses](#toc0_)"
   ]
  },
  {
   "cell_type": "markdown",
   "metadata": {},
   "source": [
    "\n",
    "- H01. A diferença da taxa de cancelamento dos hoteis urbano e resort é superior a 5%.\n",
    "- H02. Pessoas com Lead Time superior a 10 dias cancelam mais que pessoas com Lead Time inferior a 10 dias\n",
    "- H03. A taxa de cancelamentos na baixa temporada ( inverno Europeu) é maior do que na alta temporada.\n",
    "- H04. Pessoas que solicitam requisições especiais cancelam menos.\n",
    "- H05. Pessoas que possuem histórico de cancelamento anterior cancelam mais\n",
    "- H06. Quanto menos vagas de estacionamento são solicitadas menor a taxa de cancelamento.\n",
    "- H07. As reservas no hotel urbano duram em média 2 dias e no hotel resort em média uma semana.\n",
    "- H08. A diferença de cancelamentos entre as 10 agencias mais utilizadas é inferior a 10%\n",
    "- H09. Pessoas na lista de espera tendem a cancelar menos.\n",
    "- H10. Nativos(Portugueses) cancelam mais do que os demais paises da Europa.\n",
    "- H11. Pessoas de outros continentes cancelam menos que os portugueses do que o continente europeu.\n",
    "- H12. A diaria média do hotel resort é 50% maior que a do hotel urbano.\n",
    "- H13. As distribuições temporais do preço médio por visitantes no hotel urbano e resort são relativamente diferentes.\n",
    "- H14. O gasto médio por pessoa no Resort Hotel é maior do que no City Hotel em todo ano\n",
    "- H15. Reservas feitas por companias possuem taxa de cancelamento inferior a 10%\n",
    "- H16. Pessoas fazem adiantamento (Non Refund) cancelam em média 20% menos."
   ]
  },
  {
   "cell_type": "markdown",
   "metadata": {},
   "source": [
    "## <a id='toc1_2_'></a>[Analises Gerais](#toc0_)\n"
   ]
  },
  {
   "cell_type": "markdown",
   "metadata": {},
   "source": [
    "\n",
    "### <a id='toc1_2_1_'></a>[Com relação aos hospedes](#toc0_)\n",
    "- Quais são os meses mais movimentados? \n",
    "- Quais são os quartos mais escolhidos?\n",
    "- Quais os segmentos de mercado mais escolhido?\n",
    "- Quanto tempo as pessoas costumam ficar nos hotéis?\n",
    "- Quantos hóspedes são adultos, crianças e bebês?\n",
    "- Quanto tempo as pessoas esperam até o check-in?\n",
    "- Quantas pessoas ficam em cada quarto?\n",
    "- Quantos paises unicos visitam cada hotel?\n",
    "- Quais os paises possuem mais registros de resreva?\n",
    "- Quais as agencias que mais fazem reservas?\n",
    "- Quais as companias que faze mmais reservas?\n",
    "### <a id='toc1_2_2_'></a>[Com relação aos preços](#toc0_)\n",
    "- Quais os meses mais lucrativos\n",
    "- Quanto as pessoas pagam por noite?\n",
    "- Quanto os preços variam por tipo de quarto?\n",
    "- Quanto os preços variam por segmento de mercado?\n",
    "- Quais as agencias mais lucrativas?\n",
    "- Quais as companias mais lucrativas?\n",
    "### <a id='toc1_2_3_'></a>[Com relação aos cancelamentos](#toc0_)\n",
    "- Qual hotel cancela mais?\n",
    "- Quais os meses com mais cancelamentos?\n",
    "- Quais os paises com mais cancelementos?\n",
    "- Quais as features que são mais relevantes para saber se o cliente irá cancelar?\n",
    "- Qual o prejuizo financeiro com relação aos cancelamentos?\n",
    "- Quais agencias cancelam mais?\n",
    "- Quais companias cancelam mais?\n",
    "### <a id='toc1_2_4_'></a>[Com relação aos quartos](#toc0_)\n",
    "- Quais os melhores quartos\n",
    "- Quais os quartos mais requisitados de acordo com o market segment"
   ]
  },
  {
   "cell_type": "markdown",
   "metadata": {
    "vscode": {
     "languageId": "plaintext"
    }
   },
   "source": [
    "---"
   ]
  },
  {
   "cell_type": "markdown",
   "metadata": {},
   "source": [
    "## <a id='toc1_3_'></a>[Importações](#toc0_)\n"
   ]
  },
  {
   "cell_type": "markdown",
   "metadata": {},
   "source": [
    "### <a id='toc1_3_1_'></a>[Bibliotecas](#toc0_)"
   ]
  },
  {
   "cell_type": "code",
   "execution_count": 1,
   "metadata": {
    "ExecuteTime": {
     "end_time": "2023-04-15T17:43:04.741426Z",
     "start_time": "2023-04-15T17:43:04.175868Z"
    }
   },
   "outputs": [],
   "source": [
    "import pandas as pd\n",
    "import numpy as np\n",
    "\n",
    "import seaborn as sns\n",
    "sns.set(rc={'figure.figsize':(12,6)})\n",
    "import matplotlib.pyplot as plt"
   ]
  },
  {
   "cell_type": "markdown",
   "metadata": {},
   "source": [
    "### <a id='toc1_3_2_'></a>[Dados](#toc0_)"
   ]
  },
  {
   "cell_type": "code",
   "execution_count": 2,
   "metadata": {
    "ExecuteTime": {
     "end_time": "2023-04-15T17:43:04.904011Z",
     "start_time": "2023-04-15T17:43:04.743107Z"
    }
   },
   "outputs": [],
   "source": [
    "path = \"./dataset/hotel_bookings.csv\"\n",
    "raw_data = pd.read_csv(path)"
   ]
  },
  {
   "cell_type": "markdown",
   "metadata": {},
   "source": [
    "## <a id='toc1_4_'></a>[01 - Análise preliminar](#toc0_)\n",
    "- Compreender os dados e variáveis "
   ]
  },
  {
   "cell_type": "markdown",
   "metadata": {},
   "source": [
    "### <a id='toc1_4_1_'></a>[Alguns insights](#toc0_)\n",
    "- Originalmente são 119.390 entradas no dataframe\n",
    "- Há uma coluna, que será nosso variável-alvo, de cancelamento da reserva\n",
    "- O LeadTime é o tempo entre a reserva e a data de check-in (arrival)\n",
    "- \n",
    "- "
   ]
  },
  {
   "cell_type": "code",
   "execution_count": 3,
   "metadata": {
    "ExecuteTime": {
     "end_time": "2023-04-15T17:43:04.910086Z",
     "start_time": "2023-04-15T17:43:04.905321Z"
    }
   },
   "outputs": [
    {
     "data": {
      "text/plain": [
       "(119390, 32)"
      ]
     },
     "execution_count": 3,
     "metadata": {},
     "output_type": "execute_result"
    }
   ],
   "source": [
    "raw_data.shape"
   ]
  },
  {
   "cell_type": "code",
   "execution_count": 4,
   "metadata": {
    "ExecuteTime": {
     "end_time": "2023-04-15T17:43:04.926596Z",
     "start_time": "2023-04-15T17:43:04.911750Z"
    }
   },
   "outputs": [
    {
     "data": {
      "text/html": [
       "<div>\n",
       "<style scoped>\n",
       "    .dataframe tbody tr th:only-of-type {\n",
       "        vertical-align: middle;\n",
       "    }\n",
       "\n",
       "    .dataframe tbody tr th {\n",
       "        vertical-align: top;\n",
       "    }\n",
       "\n",
       "    .dataframe thead th {\n",
       "        text-align: right;\n",
       "    }\n",
       "</style>\n",
       "<table border=\"1\" class=\"dataframe\">\n",
       "  <thead>\n",
       "    <tr style=\"text-align: right;\">\n",
       "      <th></th>\n",
       "      <th>hotel</th>\n",
       "      <th>is_canceled</th>\n",
       "      <th>lead_time</th>\n",
       "      <th>arrival_date_year</th>\n",
       "      <th>arrival_date_month</th>\n",
       "      <th>arrival_date_week_number</th>\n",
       "      <th>arrival_date_day_of_month</th>\n",
       "      <th>stays_in_weekend_nights</th>\n",
       "      <th>stays_in_week_nights</th>\n",
       "      <th>adults</th>\n",
       "      <th>...</th>\n",
       "      <th>deposit_type</th>\n",
       "      <th>agent</th>\n",
       "      <th>company</th>\n",
       "      <th>days_in_waiting_list</th>\n",
       "      <th>customer_type</th>\n",
       "      <th>adr</th>\n",
       "      <th>required_car_parking_spaces</th>\n",
       "      <th>total_of_special_requests</th>\n",
       "      <th>reservation_status</th>\n",
       "      <th>reservation_status_date</th>\n",
       "    </tr>\n",
       "  </thead>\n",
       "  <tbody>\n",
       "    <tr>\n",
       "      <th>0</th>\n",
       "      <td>Resort Hotel</td>\n",
       "      <td>0</td>\n",
       "      <td>342</td>\n",
       "      <td>2015</td>\n",
       "      <td>July</td>\n",
       "      <td>27</td>\n",
       "      <td>1</td>\n",
       "      <td>0</td>\n",
       "      <td>0</td>\n",
       "      <td>2</td>\n",
       "      <td>...</td>\n",
       "      <td>No Deposit</td>\n",
       "      <td>NaN</td>\n",
       "      <td>NaN</td>\n",
       "      <td>0</td>\n",
       "      <td>Transient</td>\n",
       "      <td>0.0</td>\n",
       "      <td>0</td>\n",
       "      <td>0</td>\n",
       "      <td>Check-Out</td>\n",
       "      <td>2015-07-01</td>\n",
       "    </tr>\n",
       "    <tr>\n",
       "      <th>1</th>\n",
       "      <td>Resort Hotel</td>\n",
       "      <td>0</td>\n",
       "      <td>737</td>\n",
       "      <td>2015</td>\n",
       "      <td>July</td>\n",
       "      <td>27</td>\n",
       "      <td>1</td>\n",
       "      <td>0</td>\n",
       "      <td>0</td>\n",
       "      <td>2</td>\n",
       "      <td>...</td>\n",
       "      <td>No Deposit</td>\n",
       "      <td>NaN</td>\n",
       "      <td>NaN</td>\n",
       "      <td>0</td>\n",
       "      <td>Transient</td>\n",
       "      <td>0.0</td>\n",
       "      <td>0</td>\n",
       "      <td>0</td>\n",
       "      <td>Check-Out</td>\n",
       "      <td>2015-07-01</td>\n",
       "    </tr>\n",
       "  </tbody>\n",
       "</table>\n",
       "<p>2 rows × 32 columns</p>\n",
       "</div>"
      ],
      "text/plain": [
       "          hotel  is_canceled  lead_time  arrival_date_year arrival_date_month   \n",
       "0  Resort Hotel            0        342               2015               July  \\\n",
       "1  Resort Hotel            0        737               2015               July   \n",
       "\n",
       "   arrival_date_week_number  arrival_date_day_of_month   \n",
       "0                        27                          1  \\\n",
       "1                        27                          1   \n",
       "\n",
       "   stays_in_weekend_nights  stays_in_week_nights  adults  ...  deposit_type   \n",
       "0                        0                     0       2  ...    No Deposit  \\\n",
       "1                        0                     0       2  ...    No Deposit   \n",
       "\n",
       "   agent company days_in_waiting_list customer_type  adr   \n",
       "0    NaN     NaN                    0     Transient  0.0  \\\n",
       "1    NaN     NaN                    0     Transient  0.0   \n",
       "\n",
       "   required_car_parking_spaces  total_of_special_requests  reservation_status   \n",
       "0                            0                          0           Check-Out  \\\n",
       "1                            0                          0           Check-Out   \n",
       "\n",
       "  reservation_status_date  \n",
       "0              2015-07-01  \n",
       "1              2015-07-01  \n",
       "\n",
       "[2 rows x 32 columns]"
      ]
     },
     "execution_count": 4,
     "metadata": {},
     "output_type": "execute_result"
    }
   ],
   "source": [
    "raw_data.head(2)"
   ]
  },
  {
   "cell_type": "code",
   "execution_count": 5,
   "metadata": {
    "ExecuteTime": {
     "end_time": "2023-04-15T17:43:04.930667Z",
     "start_time": "2023-04-15T17:43:04.927722Z"
    }
   },
   "outputs": [
    {
     "data": {
      "text/plain": [
       "Index(['hotel', 'is_canceled', 'lead_time', 'arrival_date_year',\n",
       "       'arrival_date_month', 'arrival_date_week_number',\n",
       "       'arrival_date_day_of_month', 'stays_in_weekend_nights',\n",
       "       'stays_in_week_nights', 'adults', 'children', 'babies', 'meal',\n",
       "       'country', 'market_segment', 'distribution_channel',\n",
       "       'is_repeated_guest', 'previous_cancellations',\n",
       "       'previous_bookings_not_canceled', 'reserved_room_type',\n",
       "       'assigned_room_type', 'booking_changes', 'deposit_type', 'agent',\n",
       "       'company', 'days_in_waiting_list', 'customer_type', 'adr',\n",
       "       'required_car_parking_spaces', 'total_of_special_requests',\n",
       "       'reservation_status', 'reservation_status_date'],\n",
       "      dtype='object')"
      ]
     },
     "execution_count": 5,
     "metadata": {},
     "output_type": "execute_result"
    }
   ],
   "source": [
    "raw_data.columns"
   ]
  },
  {
   "cell_type": "code",
   "execution_count": 6,
   "metadata": {
    "ExecuteTime": {
     "end_time": "2023-04-15T17:43:04.935424Z",
     "start_time": "2023-04-15T17:43:04.931844Z"
    }
   },
   "outputs": [
    {
     "data": {
      "text/plain": [
       "hotel                              object\n",
       "is_canceled                         int64\n",
       "lead_time                           int64\n",
       "arrival_date_year                   int64\n",
       "arrival_date_month                 object\n",
       "arrival_date_week_number            int64\n",
       "arrival_date_day_of_month           int64\n",
       "stays_in_weekend_nights             int64\n",
       "stays_in_week_nights                int64\n",
       "adults                              int64\n",
       "children                          float64\n",
       "babies                              int64\n",
       "meal                               object\n",
       "country                            object\n",
       "market_segment                     object\n",
       "distribution_channel               object\n",
       "is_repeated_guest                   int64\n",
       "previous_cancellations              int64\n",
       "previous_bookings_not_canceled      int64\n",
       "reserved_room_type                 object\n",
       "assigned_room_type                 object\n",
       "booking_changes                     int64\n",
       "deposit_type                       object\n",
       "agent                             float64\n",
       "company                           float64\n",
       "days_in_waiting_list                int64\n",
       "customer_type                      object\n",
       "adr                               float64\n",
       "required_car_parking_spaces         int64\n",
       "total_of_special_requests           int64\n",
       "reservation_status                 object\n",
       "reservation_status_date            object\n",
       "dtype: object"
      ]
     },
     "execution_count": 6,
     "metadata": {},
     "output_type": "execute_result"
    }
   ],
   "source": [
    "raw_data.dtypes"
   ]
  },
  {
   "cell_type": "code",
   "execution_count": 7,
   "metadata": {
    "ExecuteTime": {
     "end_time": "2023-04-15T17:43:04.998710Z",
     "start_time": "2023-04-15T17:43:04.936698Z"
    }
   },
   "outputs": [
    {
     "data": {
      "text/html": [
       "<div>\n",
       "<style scoped>\n",
       "    .dataframe tbody tr th:only-of-type {\n",
       "        vertical-align: middle;\n",
       "    }\n",
       "\n",
       "    .dataframe tbody tr th {\n",
       "        vertical-align: top;\n",
       "    }\n",
       "\n",
       "    .dataframe thead th {\n",
       "        text-align: right;\n",
       "    }\n",
       "</style>\n",
       "<table border=\"1\" class=\"dataframe\">\n",
       "  <thead>\n",
       "    <tr style=\"text-align: right;\">\n",
       "      <th></th>\n",
       "      <th>count</th>\n",
       "      <th>mean</th>\n",
       "      <th>std</th>\n",
       "      <th>min</th>\n",
       "      <th>25%</th>\n",
       "      <th>50%</th>\n",
       "      <th>75%</th>\n",
       "      <th>max</th>\n",
       "    </tr>\n",
       "  </thead>\n",
       "  <tbody>\n",
       "    <tr>\n",
       "      <th>is_canceled</th>\n",
       "      <td>119390.0</td>\n",
       "      <td>0.370416</td>\n",
       "      <td>0.482918</td>\n",
       "      <td>0.00</td>\n",
       "      <td>0.00</td>\n",
       "      <td>0.000</td>\n",
       "      <td>1.0</td>\n",
       "      <td>1.0</td>\n",
       "    </tr>\n",
       "    <tr>\n",
       "      <th>lead_time</th>\n",
       "      <td>119390.0</td>\n",
       "      <td>104.011416</td>\n",
       "      <td>106.863097</td>\n",
       "      <td>0.00</td>\n",
       "      <td>18.00</td>\n",
       "      <td>69.000</td>\n",
       "      <td>160.0</td>\n",
       "      <td>737.0</td>\n",
       "    </tr>\n",
       "    <tr>\n",
       "      <th>arrival_date_year</th>\n",
       "      <td>119390.0</td>\n",
       "      <td>2016.156554</td>\n",
       "      <td>0.707476</td>\n",
       "      <td>2015.00</td>\n",
       "      <td>2016.00</td>\n",
       "      <td>2016.000</td>\n",
       "      <td>2017.0</td>\n",
       "      <td>2017.0</td>\n",
       "    </tr>\n",
       "    <tr>\n",
       "      <th>arrival_date_week_number</th>\n",
       "      <td>119390.0</td>\n",
       "      <td>27.165173</td>\n",
       "      <td>13.605138</td>\n",
       "      <td>1.00</td>\n",
       "      <td>16.00</td>\n",
       "      <td>28.000</td>\n",
       "      <td>38.0</td>\n",
       "      <td>53.0</td>\n",
       "    </tr>\n",
       "    <tr>\n",
       "      <th>arrival_date_day_of_month</th>\n",
       "      <td>119390.0</td>\n",
       "      <td>15.798241</td>\n",
       "      <td>8.780829</td>\n",
       "      <td>1.00</td>\n",
       "      <td>8.00</td>\n",
       "      <td>16.000</td>\n",
       "      <td>23.0</td>\n",
       "      <td>31.0</td>\n",
       "    </tr>\n",
       "    <tr>\n",
       "      <th>stays_in_weekend_nights</th>\n",
       "      <td>119390.0</td>\n",
       "      <td>0.927599</td>\n",
       "      <td>0.998613</td>\n",
       "      <td>0.00</td>\n",
       "      <td>0.00</td>\n",
       "      <td>1.000</td>\n",
       "      <td>2.0</td>\n",
       "      <td>19.0</td>\n",
       "    </tr>\n",
       "    <tr>\n",
       "      <th>stays_in_week_nights</th>\n",
       "      <td>119390.0</td>\n",
       "      <td>2.500302</td>\n",
       "      <td>1.908286</td>\n",
       "      <td>0.00</td>\n",
       "      <td>1.00</td>\n",
       "      <td>2.000</td>\n",
       "      <td>3.0</td>\n",
       "      <td>50.0</td>\n",
       "    </tr>\n",
       "    <tr>\n",
       "      <th>adults</th>\n",
       "      <td>119390.0</td>\n",
       "      <td>1.856403</td>\n",
       "      <td>0.579261</td>\n",
       "      <td>0.00</td>\n",
       "      <td>2.00</td>\n",
       "      <td>2.000</td>\n",
       "      <td>2.0</td>\n",
       "      <td>55.0</td>\n",
       "    </tr>\n",
       "    <tr>\n",
       "      <th>children</th>\n",
       "      <td>119386.0</td>\n",
       "      <td>0.103890</td>\n",
       "      <td>0.398561</td>\n",
       "      <td>0.00</td>\n",
       "      <td>0.00</td>\n",
       "      <td>0.000</td>\n",
       "      <td>0.0</td>\n",
       "      <td>10.0</td>\n",
       "    </tr>\n",
       "    <tr>\n",
       "      <th>babies</th>\n",
       "      <td>119390.0</td>\n",
       "      <td>0.007949</td>\n",
       "      <td>0.097436</td>\n",
       "      <td>0.00</td>\n",
       "      <td>0.00</td>\n",
       "      <td>0.000</td>\n",
       "      <td>0.0</td>\n",
       "      <td>10.0</td>\n",
       "    </tr>\n",
       "    <tr>\n",
       "      <th>is_repeated_guest</th>\n",
       "      <td>119390.0</td>\n",
       "      <td>0.031912</td>\n",
       "      <td>0.175767</td>\n",
       "      <td>0.00</td>\n",
       "      <td>0.00</td>\n",
       "      <td>0.000</td>\n",
       "      <td>0.0</td>\n",
       "      <td>1.0</td>\n",
       "    </tr>\n",
       "    <tr>\n",
       "      <th>previous_cancellations</th>\n",
       "      <td>119390.0</td>\n",
       "      <td>0.087118</td>\n",
       "      <td>0.844336</td>\n",
       "      <td>0.00</td>\n",
       "      <td>0.00</td>\n",
       "      <td>0.000</td>\n",
       "      <td>0.0</td>\n",
       "      <td>26.0</td>\n",
       "    </tr>\n",
       "    <tr>\n",
       "      <th>previous_bookings_not_canceled</th>\n",
       "      <td>119390.0</td>\n",
       "      <td>0.137097</td>\n",
       "      <td>1.497437</td>\n",
       "      <td>0.00</td>\n",
       "      <td>0.00</td>\n",
       "      <td>0.000</td>\n",
       "      <td>0.0</td>\n",
       "      <td>72.0</td>\n",
       "    </tr>\n",
       "    <tr>\n",
       "      <th>booking_changes</th>\n",
       "      <td>119390.0</td>\n",
       "      <td>0.221124</td>\n",
       "      <td>0.652306</td>\n",
       "      <td>0.00</td>\n",
       "      <td>0.00</td>\n",
       "      <td>0.000</td>\n",
       "      <td>0.0</td>\n",
       "      <td>21.0</td>\n",
       "    </tr>\n",
       "    <tr>\n",
       "      <th>agent</th>\n",
       "      <td>103050.0</td>\n",
       "      <td>86.693382</td>\n",
       "      <td>110.774548</td>\n",
       "      <td>1.00</td>\n",
       "      <td>9.00</td>\n",
       "      <td>14.000</td>\n",
       "      <td>229.0</td>\n",
       "      <td>535.0</td>\n",
       "    </tr>\n",
       "    <tr>\n",
       "      <th>company</th>\n",
       "      <td>6797.0</td>\n",
       "      <td>189.266735</td>\n",
       "      <td>131.655015</td>\n",
       "      <td>6.00</td>\n",
       "      <td>62.00</td>\n",
       "      <td>179.000</td>\n",
       "      <td>270.0</td>\n",
       "      <td>543.0</td>\n",
       "    </tr>\n",
       "    <tr>\n",
       "      <th>days_in_waiting_list</th>\n",
       "      <td>119390.0</td>\n",
       "      <td>2.321149</td>\n",
       "      <td>17.594721</td>\n",
       "      <td>0.00</td>\n",
       "      <td>0.00</td>\n",
       "      <td>0.000</td>\n",
       "      <td>0.0</td>\n",
       "      <td>391.0</td>\n",
       "    </tr>\n",
       "    <tr>\n",
       "      <th>adr</th>\n",
       "      <td>119390.0</td>\n",
       "      <td>101.831122</td>\n",
       "      <td>50.535790</td>\n",
       "      <td>-6.38</td>\n",
       "      <td>69.29</td>\n",
       "      <td>94.575</td>\n",
       "      <td>126.0</td>\n",
       "      <td>5400.0</td>\n",
       "    </tr>\n",
       "    <tr>\n",
       "      <th>required_car_parking_spaces</th>\n",
       "      <td>119390.0</td>\n",
       "      <td>0.062518</td>\n",
       "      <td>0.245291</td>\n",
       "      <td>0.00</td>\n",
       "      <td>0.00</td>\n",
       "      <td>0.000</td>\n",
       "      <td>0.0</td>\n",
       "      <td>8.0</td>\n",
       "    </tr>\n",
       "    <tr>\n",
       "      <th>total_of_special_requests</th>\n",
       "      <td>119390.0</td>\n",
       "      <td>0.571363</td>\n",
       "      <td>0.792798</td>\n",
       "      <td>0.00</td>\n",
       "      <td>0.00</td>\n",
       "      <td>0.000</td>\n",
       "      <td>1.0</td>\n",
       "      <td>5.0</td>\n",
       "    </tr>\n",
       "  </tbody>\n",
       "</table>\n",
       "</div>"
      ],
      "text/plain": [
       "                                   count         mean         std      min   \n",
       "is_canceled                     119390.0     0.370416    0.482918     0.00  \\\n",
       "lead_time                       119390.0   104.011416  106.863097     0.00   \n",
       "arrival_date_year               119390.0  2016.156554    0.707476  2015.00   \n",
       "arrival_date_week_number        119390.0    27.165173   13.605138     1.00   \n",
       "arrival_date_day_of_month       119390.0    15.798241    8.780829     1.00   \n",
       "stays_in_weekend_nights         119390.0     0.927599    0.998613     0.00   \n",
       "stays_in_week_nights            119390.0     2.500302    1.908286     0.00   \n",
       "adults                          119390.0     1.856403    0.579261     0.00   \n",
       "children                        119386.0     0.103890    0.398561     0.00   \n",
       "babies                          119390.0     0.007949    0.097436     0.00   \n",
       "is_repeated_guest               119390.0     0.031912    0.175767     0.00   \n",
       "previous_cancellations          119390.0     0.087118    0.844336     0.00   \n",
       "previous_bookings_not_canceled  119390.0     0.137097    1.497437     0.00   \n",
       "booking_changes                 119390.0     0.221124    0.652306     0.00   \n",
       "agent                           103050.0    86.693382  110.774548     1.00   \n",
       "company                           6797.0   189.266735  131.655015     6.00   \n",
       "days_in_waiting_list            119390.0     2.321149   17.594721     0.00   \n",
       "adr                             119390.0   101.831122   50.535790    -6.38   \n",
       "required_car_parking_spaces     119390.0     0.062518    0.245291     0.00   \n",
       "total_of_special_requests       119390.0     0.571363    0.792798     0.00   \n",
       "\n",
       "                                    25%       50%     75%     max  \n",
       "is_canceled                        0.00     0.000     1.0     1.0  \n",
       "lead_time                         18.00    69.000   160.0   737.0  \n",
       "arrival_date_year               2016.00  2016.000  2017.0  2017.0  \n",
       "arrival_date_week_number          16.00    28.000    38.0    53.0  \n",
       "arrival_date_day_of_month          8.00    16.000    23.0    31.0  \n",
       "stays_in_weekend_nights            0.00     1.000     2.0    19.0  \n",
       "stays_in_week_nights               1.00     2.000     3.0    50.0  \n",
       "adults                             2.00     2.000     2.0    55.0  \n",
       "children                           0.00     0.000     0.0    10.0  \n",
       "babies                             0.00     0.000     0.0    10.0  \n",
       "is_repeated_guest                  0.00     0.000     0.0     1.0  \n",
       "previous_cancellations             0.00     0.000     0.0    26.0  \n",
       "previous_bookings_not_canceled     0.00     0.000     0.0    72.0  \n",
       "booking_changes                    0.00     0.000     0.0    21.0  \n",
       "agent                              9.00    14.000   229.0   535.0  \n",
       "company                           62.00   179.000   270.0   543.0  \n",
       "days_in_waiting_list               0.00     0.000     0.0   391.0  \n",
       "adr                               69.29    94.575   126.0  5400.0  \n",
       "required_car_parking_spaces        0.00     0.000     0.0     8.0  \n",
       "total_of_special_requests          0.00     0.000     1.0     5.0  "
      ]
     },
     "execution_count": 7,
     "metadata": {},
     "output_type": "execute_result"
    }
   ],
   "source": [
    "raw_data.describe().T"
   ]
  },
  {
   "cell_type": "markdown",
   "metadata": {},
   "source": [
    "### <a id='toc1_4_2_'></a>[**H01**. A diferença da taxa de cancelamento dos hoteis urbano e resort é superior a 5%. - **CONFIRMADA**](#toc0_)\n",
    "- O hotel urbano tem 13.97% de cancelamentos a mais que o resort\n",
    "- O resort tem taxa de cancelamento de 27.76%\n",
    "- O hotel urbano tem taxa de cancelamento de 41.73%"
   ]
  },
  {
   "cell_type": "code",
   "execution_count": 8,
   "metadata": {
    "ExecuteTime": {
     "end_time": "2023-04-15T17:43:05.003897Z",
     "start_time": "2023-04-15T17:43:04.999764Z"
    }
   },
   "outputs": [
    {
     "data": {
      "text/plain": [
       "0         Resort Hotel\n",
       "1         Resort Hotel\n",
       "2         Resort Hotel\n",
       "3         Resort Hotel\n",
       "4         Resort Hotel\n",
       "              ...     \n",
       "119385      City Hotel\n",
       "119386      City Hotel\n",
       "119387      City Hotel\n",
       "119388      City Hotel\n",
       "119389      City Hotel\n",
       "Name: hotel, Length: 119390, dtype: object"
      ]
     },
     "execution_count": 8,
     "metadata": {},
     "output_type": "execute_result"
    }
   ],
   "source": [
    "raw_data.hotel"
   ]
  },
  {
   "cell_type": "code",
   "execution_count": 9,
   "metadata": {
    "ExecuteTime": {
     "end_time": "2023-04-15T17:43:05.200286Z",
     "start_time": "2023-04-15T17:43:05.006106Z"
    }
   },
   "outputs": [
    {
     "data": {
      "image/png": "[encoded data removed]",
      "text/plain": [
       "<Figure size 1200x600 with 1 Axes>"
      ]
     },
     "metadata": {},
     "output_type": "display_data"
    }
   ],
   "source": [
    "aux = raw_data[['is_canceled', 'hotel', 'meal']].groupby(['hotel', 'is_canceled']).count().reset_index()\n",
    "\n",
    "h01 = sns.barplot(data = aux, hue = 'is_canceled', y = 'meal', x = 'hotel')"
   ]
  },
  {
   "cell_type": "code",
   "execution_count": 10,
   "metadata": {
    "ExecuteTime": {
     "end_time": "2023-04-15T17:43:05.216939Z",
     "start_time": "2023-04-15T17:43:05.203026Z"
    }
   },
   "outputs": [
    {
     "data": {
      "text/html": [
       "<div>\n",
       "<style scoped>\n",
       "    .dataframe tbody tr th:only-of-type {\n",
       "        vertical-align: middle;\n",
       "    }\n",
       "\n",
       "    .dataframe tbody tr th {\n",
       "        vertical-align: top;\n",
       "    }\n",
       "\n",
       "    .dataframe thead th {\n",
       "        text-align: right;\n",
       "    }\n",
       "</style>\n",
       "<table border=\"1\" class=\"dataframe\">\n",
       "  <thead>\n",
       "    <tr style=\"text-align: right;\">\n",
       "      <th></th>\n",
       "      <th>hotel</th>\n",
       "      <th>is_canceled</th>\n",
       "      <th>lead_time</th>\n",
       "    </tr>\n",
       "  </thead>\n",
       "  <tbody>\n",
       "    <tr>\n",
       "      <th>0</th>\n",
       "      <td>City Hotel</td>\n",
       "      <td>0</td>\n",
       "      <td>46228</td>\n",
       "    </tr>\n",
       "    <tr>\n",
       "      <th>1</th>\n",
       "      <td>City Hotel</td>\n",
       "      <td>1</td>\n",
       "      <td>33102</td>\n",
       "    </tr>\n",
       "    <tr>\n",
       "      <th>2</th>\n",
       "      <td>Resort Hotel</td>\n",
       "      <td>0</td>\n",
       "      <td>28938</td>\n",
       "    </tr>\n",
       "    <tr>\n",
       "      <th>3</th>\n",
       "      <td>Resort Hotel</td>\n",
       "      <td>1</td>\n",
       "      <td>11122</td>\n",
       "    </tr>\n",
       "  </tbody>\n",
       "</table>\n",
       "</div>"
      ],
      "text/plain": [
       "          hotel  is_canceled  lead_time\n",
       "0    City Hotel            0      46228\n",
       "1    City Hotel            1      33102\n",
       "2  Resort Hotel            0      28938\n",
       "3  Resort Hotel            1      11122"
      ]
     },
     "execution_count": 10,
     "metadata": {},
     "output_type": "execute_result"
    }
   ],
   "source": [
    "aux01 = raw_data[['is_canceled', 'lead_time', 'hotel']].groupby(['hotel', 'is_canceled']).count().reset_index()\n",
    "aux01"
   ]
  },
  {
   "cell_type": "code",
   "execution_count": 11,
   "metadata": {
    "ExecuteTime": {
     "end_time": "2023-04-15T17:43:05.221991Z",
     "start_time": "2023-04-15T17:43:05.218180Z"
    }
   },
   "outputs": [
    {
     "name": "stdout",
     "output_type": "stream",
     "text": [
      "A taxa de cancelamento para o Resort é de 27.76%\n",
      "A taxa de cancelamento para o Hotel Urbano é de 41.73%\n",
      "A diferença é de 13.97% de cancelamento a mais no Hotel Urbano\n"
     ]
    }
   ],
   "source": [
    "taxa_cancel_resort = (aux01.iloc[3, 2] / ( aux01.iloc[3, 2] + aux01.iloc[2, 2] ) * 100).round(2)\n",
    "taxa_cancel_urbano = (aux01.iloc[1, 2] / ( aux01.iloc[1, 2] + aux01.iloc[0, 2] ) * 100).round(2)\n",
    "\n",
    "print(f'A taxa de cancelamento para o Resort é de {taxa_cancel_resort}%')\n",
    "print(f'A taxa de cancelamento para o Hotel Urbano é de {taxa_cancel_urbano}%')\n",
    "print(f'A diferença é de {(taxa_cancel_urbano - taxa_cancel_resort).round(2)}% de cancelamento a mais no Hotel Urbano')\n"
   ]
  },
  {
   "cell_type": "markdown",
   "metadata": {},
   "source": [
    "### <a id='toc1_4_3_'></a>[**H02**. Pessoas com Lead Time superior a 10 dias cancelam mais que pessoas com Lead Time inferior a 10 dias - **CONFIRMADA**](#toc0_)\n",
    "- Cerca de 43% das reservas feitas com mais de 10 dias de antecedência são canceladas\n",
    "- Apenas 11% das reservas feitas com menos de 10 dias de antecedência são canceladas \n"
   ]
  },
  {
   "cell_type": "code",
   "execution_count": 12,
   "metadata": {
    "ExecuteTime": {
     "end_time": "2023-04-15T17:43:05.724312Z",
     "start_time": "2023-04-15T17:43:05.223340Z"
    }
   },
   "outputs": [
    {
     "data": {
      "image/png": "[encoded data removed]",
      "text/plain": [
       "<Figure size 1200x600 with 1 Axes>"
      ]
     },
     "metadata": {},
     "output_type": "display_data"
    }
   ],
   "source": [
    "h02 = sns.histplot(data = raw_data, x = 'lead_time', hue = 'is_canceled', multiple='stack', bins = 100)"
   ]
  },
  {
   "cell_type": "code",
   "execution_count": 13,
   "metadata": {
    "ExecuteTime": {
     "end_time": "2023-04-15T17:43:05.953159Z",
     "start_time": "2023-04-15T17:43:05.726324Z"
    }
   },
   "outputs": [
    {
     "data": {
      "image/png": "[encoded data removed]",
      "text/plain": [
       "<Figure size 1200x600 with 1 Axes>"
      ]
     },
     "metadata": {},
     "output_type": "display_data"
    }
   ],
   "source": [
    "h01 = sns.boxplot(data = raw_data, y = 'lead_time', hue = 'is_canceled', x='hotel')\n",
    "\n",
    "# RESORT HOTEL\n",
    "# O tempo até a reserva é mais variado, principalmente em termos de outliers nos cancelamentos do que nos comparecimentos, \n",
    "# apesar de a mediana e os quartis mais próximos dela serem mais elevados entre os comparecimentos\n",
    "#--------------> Mediana dos cancelamentos: ~20\n",
    "#--------------> Mediana dos comparecimentos: ~105\n",
    "\n",
    "# CITY HOTEL\n",
    "# O tempo até a reserva é mais variado, principalmente em termos de outliers nos comparecimentos do que nos cancelamentos, \n",
    "# A mediana e os quartis mais próximos dela são mais elevados entre os comparecimentos\n",
    "#--------------> Mediana dos cancelamentos: ~20\n",
    "#--------------> Mediana dos comparecimentos: ~110\n"
   ]
  },
  {
   "cell_type": "code",
   "execution_count": 14,
   "metadata": {
    "ExecuteTime": {
     "end_time": "2023-04-15T17:43:06.767503Z",
     "start_time": "2023-04-15T17:43:05.954479Z"
    }
   },
   "outputs": [
    {
     "data": {
      "image/png": "[encoded data removed]",
      "text/plain": [
       "<Figure size 1200x600 with 2 Axes>"
      ]
     },
     "metadata": {},
     "output_type": "display_data"
    }
   ],
   "source": [
    "aux01 = raw_data[raw_data['hotel']==\"Resort Hotel\"]\n",
    "aux02 = raw_data[raw_data['hotel']==\"City Hotel\"]\n",
    "\n",
    "fig, axes = plt.subplots(1,2)\n",
    "h01 = sns.kdeplot(data = aux01, x = 'lead_time', hue = 'is_canceled', ax=axes[0]).set(title='Resort Hotel')\n",
    "h01 = sns.kdeplot(data = aux02, x = 'lead_time', hue = 'is_canceled', ax=axes[1]).set(title='City Hotel')"
   ]
  },
  {
   "cell_type": "code",
   "execution_count": 15,
   "metadata": {
    "ExecuteTime": {
     "end_time": "2023-04-15T17:43:06.797741Z",
     "start_time": "2023-04-15T17:43:06.768784Z"
    }
   },
   "outputs": [
    {
     "name": "stdout",
     "output_type": "stream",
     "text": [
      "No conjunto de dados há 2344 cancelamentos \n",
      "de um total de 21876 reservas com tempo \n",
      "de reserva MENOR que 10 dias. \n",
      "São 10.714938745657342%\n",
      "\n",
      "No conjunto de dados há 41880 cancelamentos \n",
      "de um total de 97514 reservas com tempo \n",
      "de reserva MAIOR que 10 dias.  \n",
      "São 42.9476793075866%\n"
     ]
    }
   ],
   "source": [
    "lead_time_10plus_canceled = raw_data[(raw_data['lead_time'] >= 10) & (raw_data['is_canceled'] == 1)]\n",
    "lead_time_10plus = raw_data[(raw_data['lead_time'] >= 10)]\n",
    "lead_time_10less_canceled = raw_data[(raw_data['lead_time'] < 10) & (raw_data['is_canceled'] == 1)]\n",
    "lead_time_10less = raw_data[(raw_data['lead_time'] < 10)]\n",
    "\n",
    "print(f'No conjunto de dados há {lead_time_10less_canceled.shape[0]} cancelamentos \\nde um total de {lead_time_10less.shape[0]} reservas com tempo \\nde reserva MENOR que 10 dias. \\nSão {(lead_time_10less_canceled.shape[0]/lead_time_10less.shape[0])*100}%')\n",
    "print()\n",
    "print(f'No conjunto de dados há {lead_time_10plus_canceled.shape[0]} cancelamentos \\nde um total de {lead_time_10plus.shape[0]} reservas com tempo \\nde reserva MAIOR que 10 dias.  \\nSão {(lead_time_10plus_canceled.shape[0]/lead_time_10plus.shape[0])*100}%')"
   ]
  },
  {
   "cell_type": "markdown",
   "metadata": {},
   "source": [
    "### <a id='toc1_4_4_'></a>[H03. A taxa de cancelamentos na baixa temporada ( inverno Europeu) é maior do que na alta temporada.](#toc0_)\n",
    "A pessoa pode ter:\n",
    "- a. cancelado durante a alta temporada não importando quando reservou e quando se hospedaria\n",
    "- **b. ter reservado em algum momento do ano pra se hospedar durante a alta temporada**\n",
    "- c. ter reservado durante a alta temporada pra se hospedar em algum momento do ano\n",
    "\n",
    "**As taxas de cancelamento**:\n",
    "- No verão a taxa de cancelamento para o Resort é de 27.76%\n",
    "- No verão a taxa de cancelamento para o Hotel Urbano é de 41.73%\n",
    "- A diferença é de 13.97% de cancelamento a mais no Hotel Urbano\n",
    "\n",
    "- No inverno a taxa de cancelamento para o Resort é de 22.29%\n",
    "- No inverno a taxa de cancelamento para o Hotel Urbano é de 38.92%\n",
    "- A diferença é de 16.63% de cancelamento a mais no Hotel Urbano"
   ]
  },
  {
   "cell_type": "code",
   "execution_count": 16,
   "metadata": {
    "ExecuteTime": {
     "end_time": "2023-04-15T17:43:06.888759Z",
     "start_time": "2023-04-15T17:43:06.798861Z"
    }
   },
   "outputs": [],
   "source": [
    "dados_inverno = raw_data.loc[(raw_data['arrival_date_month'] == \"December\") | \n",
    "             (raw_data['arrival_date_month'] == \"January\") |\n",
    "             (raw_data['arrival_date_month'] == \"February\") |\n",
    "             (raw_data['arrival_date_month'] == \"March\")]\n",
    "\n",
    "\n",
    "dados_verao = raw_data.loc[(raw_data['arrival_date_month'] != \"December\") | \n",
    "             (raw_data['arrival_date_month'] != \"January\") |\n",
    "             (raw_data['arrival_date_month'] != \"February\") |\n",
    "             (raw_data['arrival_date_month'] != \"March\")]"
   ]
  },
  {
   "cell_type": "code",
   "execution_count": 17,
   "metadata": {
    "ExecuteTime": {
     "end_time": "2023-04-15T17:43:06.902797Z",
     "start_time": "2023-04-15T17:43:06.889924Z"
    }
   },
   "outputs": [
    {
     "data": {
      "text/html": [
       "<div>\n",
       "<style scoped>\n",
       "    .dataframe tbody tr th:only-of-type {\n",
       "        vertical-align: middle;\n",
       "    }\n",
       "\n",
       "    .dataframe tbody tr th {\n",
       "        vertical-align: top;\n",
       "    }\n",
       "\n",
       "    .dataframe thead th {\n",
       "        text-align: right;\n",
       "    }\n",
       "</style>\n",
       "<table border=\"1\" class=\"dataframe\">\n",
       "  <thead>\n",
       "    <tr style=\"text-align: right;\">\n",
       "      <th></th>\n",
       "      <th>hotel</th>\n",
       "      <th>is_canceled</th>\n",
       "      <th>meal</th>\n",
       "    </tr>\n",
       "  </thead>\n",
       "  <tbody>\n",
       "    <tr>\n",
       "      <th>0</th>\n",
       "      <td>City Hotel</td>\n",
       "      <td>0</td>\n",
       "      <td>11782</td>\n",
       "    </tr>\n",
       "    <tr>\n",
       "      <th>1</th>\n",
       "      <td>City Hotel</td>\n",
       "      <td>1</td>\n",
       "      <td>7509</td>\n",
       "    </tr>\n",
       "    <tr>\n",
       "      <th>2</th>\n",
       "      <td>Resort Hotel</td>\n",
       "      <td>0</td>\n",
       "      <td>8766</td>\n",
       "    </tr>\n",
       "    <tr>\n",
       "      <th>3</th>\n",
       "      <td>Resort Hotel</td>\n",
       "      <td>1</td>\n",
       "      <td>2514</td>\n",
       "    </tr>\n",
       "  </tbody>\n",
       "</table>\n",
       "</div>"
      ],
      "text/plain": [
       "          hotel  is_canceled   meal\n",
       "0    City Hotel            0  11782\n",
       "1    City Hotel            1   7509\n",
       "2  Resort Hotel            0   8766\n",
       "3  Resort Hotel            1   2514"
      ]
     },
     "execution_count": 17,
     "metadata": {},
     "output_type": "execute_result"
    }
   ],
   "source": [
    "aux_inverno = dados_inverno[['is_canceled', 'hotel', 'meal']].groupby(['hotel', 'is_canceled']).count().reset_index()\n",
    "aux_inverno"
   ]
  },
  {
   "cell_type": "code",
   "execution_count": 18,
   "metadata": {
    "ExecuteTime": {
     "end_time": "2023-04-15T17:43:06.906693Z",
     "start_time": "2023-04-15T17:43:06.903841Z"
    }
   },
   "outputs": [],
   "source": [
    "taxa_cancel_inverno_resort = (aux_inverno.iloc[3, 2] / ( aux_inverno.iloc[3, 2] + aux_inverno.iloc[2, 2] ) * 100).round(2)\n",
    "taxa_cancel_inverno_urbano = (aux_inverno.iloc[1, 2] / ( aux_inverno.iloc[1, 2] + aux_inverno.iloc[0, 2] ) * 100).round(2)"
   ]
  },
  {
   "cell_type": "code",
   "execution_count": 19,
   "metadata": {
    "ExecuteTime": {
     "end_time": "2023-04-15T17:43:06.910516Z",
     "start_time": "2023-04-15T17:43:06.907886Z"
    }
   },
   "outputs": [
    {
     "name": "stdout",
     "output_type": "stream",
     "text": [
      "No inverno a taxa de cancelamento para o Resort é de 22.29%\n",
      "No inverno a taxa de cancelamento para o Hotel Urbano é de 38.92%\n",
      "A diferença é de 16.63% de cancelamento a mais no Hotel Urbano\n"
     ]
    }
   ],
   "source": [
    "# Taxa de cancelamento no inverno\n",
    "\n",
    "print(f'No inverno a taxa de cancelamento para o Resort é de {taxa_cancel_inverno_resort}%')\n",
    "print(f'No inverno a taxa de cancelamento para o Hotel Urbano é de {taxa_cancel_inverno_urbano}%')\n",
    "print(f'A diferença é de {(taxa_cancel_inverno_urbano - taxa_cancel_inverno_resort).round(2)}% de cancelamento a mais no Hotel Urbano')"
   ]
  },
  {
   "cell_type": "code",
   "execution_count": 20,
   "metadata": {
    "ExecuteTime": {
     "end_time": "2023-04-15T17:43:06.913824Z",
     "start_time": "2023-04-15T17:43:06.911865Z"
    }
   },
   "outputs": [],
   "source": [
    "# ------------------------------------------------------------------------------------------------------------------"
   ]
  },
  {
   "cell_type": "code",
   "execution_count": 21,
   "metadata": {
    "ExecuteTime": {
     "end_time": "2023-04-15T17:43:06.940171Z",
     "start_time": "2023-04-15T17:43:06.915291Z"
    }
   },
   "outputs": [
    {
     "data": {
      "text/html": [
       "<div>\n",
       "<style scoped>\n",
       "    .dataframe tbody tr th:only-of-type {\n",
       "        vertical-align: middle;\n",
       "    }\n",
       "\n",
       "    .dataframe tbody tr th {\n",
       "        vertical-align: top;\n",
       "    }\n",
       "\n",
       "    .dataframe thead th {\n",
       "        text-align: right;\n",
       "    }\n",
       "</style>\n",
       "<table border=\"1\" class=\"dataframe\">\n",
       "  <thead>\n",
       "    <tr style=\"text-align: right;\">\n",
       "      <th></th>\n",
       "      <th>hotel</th>\n",
       "      <th>is_canceled</th>\n",
       "      <th>meal</th>\n",
       "    </tr>\n",
       "  </thead>\n",
       "  <tbody>\n",
       "    <tr>\n",
       "      <th>0</th>\n",
       "      <td>City Hotel</td>\n",
       "      <td>0</td>\n",
       "      <td>46228</td>\n",
       "    </tr>\n",
       "    <tr>\n",
       "      <th>1</th>\n",
       "      <td>City Hotel</td>\n",
       "      <td>1</td>\n",
       "      <td>33102</td>\n",
       "    </tr>\n",
       "    <tr>\n",
       "      <th>2</th>\n",
       "      <td>Resort Hotel</td>\n",
       "      <td>0</td>\n",
       "      <td>28938</td>\n",
       "    </tr>\n",
       "    <tr>\n",
       "      <th>3</th>\n",
       "      <td>Resort Hotel</td>\n",
       "      <td>1</td>\n",
       "      <td>11122</td>\n",
       "    </tr>\n",
       "  </tbody>\n",
       "</table>\n",
       "</div>"
      ],
      "text/plain": [
       "          hotel  is_canceled   meal\n",
       "0    City Hotel            0  46228\n",
       "1    City Hotel            1  33102\n",
       "2  Resort Hotel            0  28938\n",
       "3  Resort Hotel            1  11122"
      ]
     },
     "execution_count": 21,
     "metadata": {},
     "output_type": "execute_result"
    }
   ],
   "source": [
    "aux_verao = dados_verao[['is_canceled', 'hotel', 'meal']].groupby(['hotel', 'is_canceled']).count().reset_index()\n",
    "aux_verao"
   ]
  },
  {
   "cell_type": "code",
   "execution_count": 22,
   "metadata": {
    "ExecuteTime": {
     "end_time": "2023-04-15T17:43:06.943949Z",
     "start_time": "2023-04-15T17:43:06.941178Z"
    }
   },
   "outputs": [],
   "source": [
    "taxa_cancel_verao_resort = (aux_verao.iloc[3, 2] / ( aux_verao.iloc[3, 2] + aux_verao.iloc[2, 2] ) * 100).round(2)\n",
    "taxa_cancel_verao_urbano = (aux_verao.iloc[1, 2] / ( aux_verao.iloc[1, 2] + aux_verao.iloc[0, 2] ) * 100).round(2)"
   ]
  },
  {
   "cell_type": "code",
   "execution_count": 23,
   "metadata": {
    "ExecuteTime": {
     "end_time": "2023-04-15T17:43:06.947508Z",
     "start_time": "2023-04-15T17:43:06.944940Z"
    }
   },
   "outputs": [
    {
     "name": "stdout",
     "output_type": "stream",
     "text": [
      "No verao a taxa de cancelamento para o Resort é de 27.76%\n",
      "No verao a taxa de cancelamento para o Hotel Urbano é de 41.73%\n",
      "A diferença é de 13.97% de cancelamento a mais no Hotel Urbano\n"
     ]
    }
   ],
   "source": [
    "# Taxa de cancelamento no verão\n",
    "\n",
    "print(f'No verao a taxa de cancelamento para o Resort é de {taxa_cancel_verao_resort}%')\n",
    "print(f'No verao a taxa de cancelamento para o Hotel Urbano é de {taxa_cancel_verao_urbano}%')\n",
    "print(f'A diferença é de {(taxa_cancel_verao_urbano - taxa_cancel_verao_resort).round(2)}% de cancelamento a mais no Hotel Urbano')"
   ]
  },
  {
   "cell_type": "markdown",
   "metadata": {},
   "source": [
    "**Gráficos**"
   ]
  },
  {
   "cell_type": "code",
   "execution_count": 24,
   "metadata": {
    "ExecuteTime": {
     "end_time": "2023-04-15T17:43:07.204649Z",
     "start_time": "2023-04-15T17:43:06.948763Z"
    }
   },
   "outputs": [
    {
     "data": {
      "image/png": "[encoded data removed]",
      "text/plain": [
       "<Figure size 1200x600 with 2 Axes>"
      ]
     },
     "metadata": {},
     "output_type": "display_data"
    }
   ],
   "source": [
    "fig, axes = plt.subplots(1,2)\n",
    "cancel_inverno = cancel_inverno = sns.barplot(data = aux_inverno,\n",
    "                             x = 'hotel',\n",
    "                             y = 'meal',\n",
    "                             hue = 'is_canceled',\n",
    "                             ax = axes[0])\n",
    "cancel_verao = cancel_verao = sns.barplot(data = aux_verao,\n",
    "                             x = 'hotel',\n",
    "                             y = 'meal',\n",
    "                             hue = 'is_canceled',\n",
    "                             ax = axes[1])"
   ]
  },
  {
   "cell_type": "markdown",
   "metadata": {},
   "source": [
    "### <a id='toc1_4_5_'></a>[H04. Pessoas que solicitam requisições especiais cancelam menos.](#toc0_)\n"
   ]
  },
  {
   "cell_type": "code",
   "execution_count": null,
   "metadata": {},
   "outputs": [],
   "source": []
  },
  {
   "cell_type": "markdown",
   "metadata": {},
   "source": [
    "### <a id='toc1_4_6_'></a>[H05. Pessoas que possuem histórico de cancelamento anterior cancelam mais](#toc0_)\n"
   ]
  },
  {
   "cell_type": "code",
   "execution_count": null,
   "metadata": {},
   "outputs": [],
   "source": []
  },
  {
   "cell_type": "markdown",
   "metadata": {},
   "source": [
    "### <a id='toc1_4_7_'></a>[H06. Quanto menos vagas de estacionamento são solicitadas menor a taxa de cancelamento.](#toc0_)\n"
   ]
  },
  {
   "cell_type": "code",
   "execution_count": null,
   "metadata": {},
   "outputs": [],
   "source": []
  },
  {
   "cell_type": "markdown",
   "metadata": {},
   "source": [
    "### <a id='toc1_4_8_'></a>[H07. As reservas no hotel urbano duram em média 2 dias e no hotel resort em média uma semana.](#toc0_)\n"
   ]
  },
  {
   "cell_type": "code",
   "execution_count": null,
   "metadata": {},
   "outputs": [],
   "source": []
  },
  {
   "cell_type": "markdown",
   "metadata": {},
   "source": [
    "### <a id='toc1_4_9_'></a>[H08. A diferença de cancelamentos entre as 10 agencias mais utilizadas é inferior a 10%](#toc0_)\n"
   ]
  },
  {
   "cell_type": "code",
   "execution_count": null,
   "metadata": {},
   "outputs": [],
   "source": []
  },
  {
   "cell_type": "markdown",
   "metadata": {},
   "source": [
    "### <a id='toc1_4_10_'></a>[H09. Pessoas na lista de espera tendem a cancelar menos.](#toc0_)\n"
   ]
  },
  {
   "cell_type": "code",
   "execution_count": null,
   "metadata": {},
   "outputs": [],
   "source": []
  },
  {
   "cell_type": "markdown",
   "metadata": {},
   "source": [
    "### <a id='toc1_4_11_'></a>[H10. Nativos(Portugueses) cancelam mais do que os demais paises da Europa.](#toc0_)\n"
   ]
  },
  {
   "cell_type": "code",
   "execution_count": null,
   "metadata": {},
   "outputs": [],
   "source": []
  },
  {
   "cell_type": "markdown",
   "metadata": {},
   "source": [
    "### <a id='toc1_4_12_'></a>[H11. Pessoas de outros continentes cancelam menos que os portugueses do que o continente europeu.](#toc0_)\n"
   ]
  },
  {
   "cell_type": "code",
   "execution_count": null,
   "metadata": {},
   "outputs": [],
   "source": []
  },
  {
   "cell_type": "markdown",
   "metadata": {},
   "source": [
    "### <a id='toc1_4_13_'></a>[H12. A diaria média do hotel resort é 50% maior que a do hotel urbano.](#toc0_)\n"
   ]
  },
  {
   "cell_type": "code",
   "execution_count": null,
   "metadata": {},
   "outputs": [],
   "source": []
  },
  {
   "cell_type": "markdown",
   "metadata": {},
   "source": [
    "### <a id='toc1_4_14_'></a>[H13. As distribuições temporais do preço médio por visitantes no hotel urbano e resort são relativamente diferentes.](#toc0_)\n"
   ]
  },
  {
   "cell_type": "code",
   "execution_count": null,
   "metadata": {},
   "outputs": [],
   "source": []
  },
  {
   "cell_type": "markdown",
   "metadata": {},
   "source": [
    "### <a id='toc1_4_15_'></a>[H14. O gasto médio por pessoa no Resort Hotel é maior do que no City Hotel em todo ano](#toc0_)\n"
   ]
  },
  {
   "cell_type": "code",
   "execution_count": null,
   "metadata": {},
   "outputs": [],
   "source": []
  },
  {
   "cell_type": "markdown",
   "metadata": {},
   "source": [
    "### <a id='toc1_4_16_'></a>[H15. Reservas feitas por companias possuem taxa de cancelamento inferior a 10%](#toc0_)\n"
   ]
  },
  {
   "cell_type": "code",
   "execution_count": null,
   "metadata": {},
   "outputs": [],
   "source": []
  },
  {
   "cell_type": "markdown",
   "metadata": {},
   "source": [
    "### <a id='toc1_4_17_'></a>[H16. Pessoas fazem adiantamento (Non Refund) cancelam em média 20% menos.](#toc0_)"
   ]
  },
  {
   "cell_type": "code",
   "execution_count": null,
   "metadata": {},
   "outputs": [],
   "source": []
  }
 ],
 "metadata": {
  "kernelspec": {
   "display_name": "Python 3 (ipykernel)",
   "language": "python",
   "name": "python3"
  },
  "language_info": {
   "codemirror_mode": {
    "name": "ipython",
    "version": 3
   },
   "file_extension": ".py",
   "mimetype": "text/x-python",
   "name": "python",
   "nbconvert_exporter": "python",
   "pygments_lexer": "ipython3",
   "version": "3.11.2"
  },
  "toc": {
   "base_numbering": 1,
   "nav_menu": {},
   "number_sections": true,
   "sideBar": true,
   "skip_h1_title": false,
   "title_cell": "Table of Contents",
   "title_sidebar": "Contents",
   "toc_cell": false,
   "toc_position": {},
   "toc_section_display": true,
   "toc_window_display": false
  }
 },
 "nbformat": 4,
 "nbformat_minor": 2
}
